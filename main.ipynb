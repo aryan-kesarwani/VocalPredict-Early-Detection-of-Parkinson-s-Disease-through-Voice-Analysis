{
 "cells": [
  {
   "cell_type": "code",
   "execution_count": 11,
   "id": "d944c0e7",
   "metadata": {},
   "outputs": [],
   "source": [
    "import tensorflow as tf\n",
    "from tensorflow import keras\n",
    "from keras.models import load_model\n",
    "\n",
    "import numpy as np\n",
    "import pandas as pd\n",
    "import matplotlib.pyplot as plt\n",
    "import seaborn as sb\n",
    " \n",
    "from imblearn.over_sampling import RandomOverSampler\n",
    "from sklearn.model_selection import train_test_split\n",
    "from sklearn.preprocessing import LabelEncoder, MinMaxScaler\n",
    "from sklearn.feature_selection import SelectKBest, chi2\n",
    "from tqdm.notebook import tqdm\n",
    "from sklearn import metrics\n",
    "from sklearn.svm import SVC\n",
    "from xgboost import XGBClassifier\n",
    "from sklearn.linear_model import LogisticRegression"
   ]
  },
  {
   "cell_type": "code",
   "execution_count": 2,
   "id": "2f3b0433",
   "metadata": {},
   "outputs": [],
   "source": [
    "df=pd.read_csv('parkinsons.data')"
   ]
  },
  {
   "cell_type": "code",
   "execution_count": 3,
   "id": "b01e4611",
   "metadata": {},
   "outputs": [
    {
     "data": {
      "text/html": [
       "<div>\n",
       "<style scoped>\n",
       "    .dataframe tbody tr th:only-of-type {\n",
       "        vertical-align: middle;\n",
       "    }\n",
       "\n",
       "    .dataframe tbody tr th {\n",
       "        vertical-align: top;\n",
       "    }\n",
       "\n",
       "    .dataframe thead th {\n",
       "        text-align: right;\n",
       "    }\n",
       "</style>\n",
       "<table border=\"1\" class=\"dataframe\">\n",
       "  <thead>\n",
       "    <tr style=\"text-align: right;\">\n",
       "      <th></th>\n",
       "      <th>name</th>\n",
       "      <th>MDVP:Fo(Hz)</th>\n",
       "      <th>MDVP:Fhi(Hz)</th>\n",
       "      <th>MDVP:Flo(Hz)</th>\n",
       "      <th>MDVP:Jitter(%)</th>\n",
       "      <th>MDVP:Jitter(Abs)</th>\n",
       "      <th>MDVP:RAP</th>\n",
       "      <th>MDVP:PPQ</th>\n",
       "      <th>Jitter:DDP</th>\n",
       "      <th>MDVP:Shimmer</th>\n",
       "      <th>...</th>\n",
       "      <th>Shimmer:DDA</th>\n",
       "      <th>NHR</th>\n",
       "      <th>HNR</th>\n",
       "      <th>status</th>\n",
       "      <th>RPDE</th>\n",
       "      <th>DFA</th>\n",
       "      <th>spread1</th>\n",
       "      <th>spread2</th>\n",
       "      <th>D2</th>\n",
       "      <th>PPE</th>\n",
       "    </tr>\n",
       "  </thead>\n",
       "  <tbody>\n",
       "    <tr>\n",
       "      <th>0</th>\n",
       "      <td>phon_R01_S01_1</td>\n",
       "      <td>119.992</td>\n",
       "      <td>157.302</td>\n",
       "      <td>74.997</td>\n",
       "      <td>0.00784</td>\n",
       "      <td>0.00007</td>\n",
       "      <td>0.00370</td>\n",
       "      <td>0.00554</td>\n",
       "      <td>0.01109</td>\n",
       "      <td>0.04374</td>\n",
       "      <td>...</td>\n",
       "      <td>0.06545</td>\n",
       "      <td>0.02211</td>\n",
       "      <td>21.033</td>\n",
       "      <td>1</td>\n",
       "      <td>0.414783</td>\n",
       "      <td>0.815285</td>\n",
       "      <td>-4.813031</td>\n",
       "      <td>0.266482</td>\n",
       "      <td>2.301442</td>\n",
       "      <td>0.284654</td>\n",
       "    </tr>\n",
       "    <tr>\n",
       "      <th>1</th>\n",
       "      <td>phon_R01_S01_2</td>\n",
       "      <td>122.400</td>\n",
       "      <td>148.650</td>\n",
       "      <td>113.819</td>\n",
       "      <td>0.00968</td>\n",
       "      <td>0.00008</td>\n",
       "      <td>0.00465</td>\n",
       "      <td>0.00696</td>\n",
       "      <td>0.01394</td>\n",
       "      <td>0.06134</td>\n",
       "      <td>...</td>\n",
       "      <td>0.09403</td>\n",
       "      <td>0.01929</td>\n",
       "      <td>19.085</td>\n",
       "      <td>1</td>\n",
       "      <td>0.458359</td>\n",
       "      <td>0.819521</td>\n",
       "      <td>-4.075192</td>\n",
       "      <td>0.335590</td>\n",
       "      <td>2.486855</td>\n",
       "      <td>0.368674</td>\n",
       "    </tr>\n",
       "    <tr>\n",
       "      <th>2</th>\n",
       "      <td>phon_R01_S01_3</td>\n",
       "      <td>116.682</td>\n",
       "      <td>131.111</td>\n",
       "      <td>111.555</td>\n",
       "      <td>0.01050</td>\n",
       "      <td>0.00009</td>\n",
       "      <td>0.00544</td>\n",
       "      <td>0.00781</td>\n",
       "      <td>0.01633</td>\n",
       "      <td>0.05233</td>\n",
       "      <td>...</td>\n",
       "      <td>0.08270</td>\n",
       "      <td>0.01309</td>\n",
       "      <td>20.651</td>\n",
       "      <td>1</td>\n",
       "      <td>0.429895</td>\n",
       "      <td>0.825288</td>\n",
       "      <td>-4.443179</td>\n",
       "      <td>0.311173</td>\n",
       "      <td>2.342259</td>\n",
       "      <td>0.332634</td>\n",
       "    </tr>\n",
       "    <tr>\n",
       "      <th>3</th>\n",
       "      <td>phon_R01_S01_4</td>\n",
       "      <td>116.676</td>\n",
       "      <td>137.871</td>\n",
       "      <td>111.366</td>\n",
       "      <td>0.00997</td>\n",
       "      <td>0.00009</td>\n",
       "      <td>0.00502</td>\n",
       "      <td>0.00698</td>\n",
       "      <td>0.01505</td>\n",
       "      <td>0.05492</td>\n",
       "      <td>...</td>\n",
       "      <td>0.08771</td>\n",
       "      <td>0.01353</td>\n",
       "      <td>20.644</td>\n",
       "      <td>1</td>\n",
       "      <td>0.434969</td>\n",
       "      <td>0.819235</td>\n",
       "      <td>-4.117501</td>\n",
       "      <td>0.334147</td>\n",
       "      <td>2.405554</td>\n",
       "      <td>0.368975</td>\n",
       "    </tr>\n",
       "    <tr>\n",
       "      <th>4</th>\n",
       "      <td>phon_R01_S01_5</td>\n",
       "      <td>116.014</td>\n",
       "      <td>141.781</td>\n",
       "      <td>110.655</td>\n",
       "      <td>0.01284</td>\n",
       "      <td>0.00011</td>\n",
       "      <td>0.00655</td>\n",
       "      <td>0.00908</td>\n",
       "      <td>0.01966</td>\n",
       "      <td>0.06425</td>\n",
       "      <td>...</td>\n",
       "      <td>0.10470</td>\n",
       "      <td>0.01767</td>\n",
       "      <td>19.649</td>\n",
       "      <td>1</td>\n",
       "      <td>0.417356</td>\n",
       "      <td>0.823484</td>\n",
       "      <td>-3.747787</td>\n",
       "      <td>0.234513</td>\n",
       "      <td>2.332180</td>\n",
       "      <td>0.410335</td>\n",
       "    </tr>\n",
       "    <tr>\n",
       "      <th>...</th>\n",
       "      <td>...</td>\n",
       "      <td>...</td>\n",
       "      <td>...</td>\n",
       "      <td>...</td>\n",
       "      <td>...</td>\n",
       "      <td>...</td>\n",
       "      <td>...</td>\n",
       "      <td>...</td>\n",
       "      <td>...</td>\n",
       "      <td>...</td>\n",
       "      <td>...</td>\n",
       "      <td>...</td>\n",
       "      <td>...</td>\n",
       "      <td>...</td>\n",
       "      <td>...</td>\n",
       "      <td>...</td>\n",
       "      <td>...</td>\n",
       "      <td>...</td>\n",
       "      <td>...</td>\n",
       "      <td>...</td>\n",
       "      <td>...</td>\n",
       "    </tr>\n",
       "    <tr>\n",
       "      <th>190</th>\n",
       "      <td>phon_R01_S50_2</td>\n",
       "      <td>174.188</td>\n",
       "      <td>230.978</td>\n",
       "      <td>94.261</td>\n",
       "      <td>0.00459</td>\n",
       "      <td>0.00003</td>\n",
       "      <td>0.00263</td>\n",
       "      <td>0.00259</td>\n",
       "      <td>0.00790</td>\n",
       "      <td>0.04087</td>\n",
       "      <td>...</td>\n",
       "      <td>0.07008</td>\n",
       "      <td>0.02764</td>\n",
       "      <td>19.517</td>\n",
       "      <td>0</td>\n",
       "      <td>0.448439</td>\n",
       "      <td>0.657899</td>\n",
       "      <td>-6.538586</td>\n",
       "      <td>0.121952</td>\n",
       "      <td>2.657476</td>\n",
       "      <td>0.133050</td>\n",
       "    </tr>\n",
       "    <tr>\n",
       "      <th>191</th>\n",
       "      <td>phon_R01_S50_3</td>\n",
       "      <td>209.516</td>\n",
       "      <td>253.017</td>\n",
       "      <td>89.488</td>\n",
       "      <td>0.00564</td>\n",
       "      <td>0.00003</td>\n",
       "      <td>0.00331</td>\n",
       "      <td>0.00292</td>\n",
       "      <td>0.00994</td>\n",
       "      <td>0.02751</td>\n",
       "      <td>...</td>\n",
       "      <td>0.04812</td>\n",
       "      <td>0.01810</td>\n",
       "      <td>19.147</td>\n",
       "      <td>0</td>\n",
       "      <td>0.431674</td>\n",
       "      <td>0.683244</td>\n",
       "      <td>-6.195325</td>\n",
       "      <td>0.129303</td>\n",
       "      <td>2.784312</td>\n",
       "      <td>0.168895</td>\n",
       "    </tr>\n",
       "    <tr>\n",
       "      <th>192</th>\n",
       "      <td>phon_R01_S50_4</td>\n",
       "      <td>174.688</td>\n",
       "      <td>240.005</td>\n",
       "      <td>74.287</td>\n",
       "      <td>0.01360</td>\n",
       "      <td>0.00008</td>\n",
       "      <td>0.00624</td>\n",
       "      <td>0.00564</td>\n",
       "      <td>0.01873</td>\n",
       "      <td>0.02308</td>\n",
       "      <td>...</td>\n",
       "      <td>0.03804</td>\n",
       "      <td>0.10715</td>\n",
       "      <td>17.883</td>\n",
       "      <td>0</td>\n",
       "      <td>0.407567</td>\n",
       "      <td>0.655683</td>\n",
       "      <td>-6.787197</td>\n",
       "      <td>0.158453</td>\n",
       "      <td>2.679772</td>\n",
       "      <td>0.131728</td>\n",
       "    </tr>\n",
       "    <tr>\n",
       "      <th>193</th>\n",
       "      <td>phon_R01_S50_5</td>\n",
       "      <td>198.764</td>\n",
       "      <td>396.961</td>\n",
       "      <td>74.904</td>\n",
       "      <td>0.00740</td>\n",
       "      <td>0.00004</td>\n",
       "      <td>0.00370</td>\n",
       "      <td>0.00390</td>\n",
       "      <td>0.01109</td>\n",
       "      <td>0.02296</td>\n",
       "      <td>...</td>\n",
       "      <td>0.03794</td>\n",
       "      <td>0.07223</td>\n",
       "      <td>19.020</td>\n",
       "      <td>0</td>\n",
       "      <td>0.451221</td>\n",
       "      <td>0.643956</td>\n",
       "      <td>-6.744577</td>\n",
       "      <td>0.207454</td>\n",
       "      <td>2.138608</td>\n",
       "      <td>0.123306</td>\n",
       "    </tr>\n",
       "    <tr>\n",
       "      <th>194</th>\n",
       "      <td>phon_R01_S50_6</td>\n",
       "      <td>214.289</td>\n",
       "      <td>260.277</td>\n",
       "      <td>77.973</td>\n",
       "      <td>0.00567</td>\n",
       "      <td>0.00003</td>\n",
       "      <td>0.00295</td>\n",
       "      <td>0.00317</td>\n",
       "      <td>0.00885</td>\n",
       "      <td>0.01884</td>\n",
       "      <td>...</td>\n",
       "      <td>0.03078</td>\n",
       "      <td>0.04398</td>\n",
       "      <td>21.209</td>\n",
       "      <td>0</td>\n",
       "      <td>0.462803</td>\n",
       "      <td>0.664357</td>\n",
       "      <td>-5.724056</td>\n",
       "      <td>0.190667</td>\n",
       "      <td>2.555477</td>\n",
       "      <td>0.148569</td>\n",
       "    </tr>\n",
       "  </tbody>\n",
       "</table>\n",
       "<p>195 rows × 24 columns</p>\n",
       "</div>"
      ],
      "text/plain": [
       "               name  MDVP:Fo(Hz)  MDVP:Fhi(Hz)  MDVP:Flo(Hz)  MDVP:Jitter(%)   \n",
       "0    phon_R01_S01_1      119.992       157.302        74.997         0.00784  \\\n",
       "1    phon_R01_S01_2      122.400       148.650       113.819         0.00968   \n",
       "2    phon_R01_S01_3      116.682       131.111       111.555         0.01050   \n",
       "3    phon_R01_S01_4      116.676       137.871       111.366         0.00997   \n",
       "4    phon_R01_S01_5      116.014       141.781       110.655         0.01284   \n",
       "..              ...          ...           ...           ...             ...   \n",
       "190  phon_R01_S50_2      174.188       230.978        94.261         0.00459   \n",
       "191  phon_R01_S50_3      209.516       253.017        89.488         0.00564   \n",
       "192  phon_R01_S50_4      174.688       240.005        74.287         0.01360   \n",
       "193  phon_R01_S50_5      198.764       396.961        74.904         0.00740   \n",
       "194  phon_R01_S50_6      214.289       260.277        77.973         0.00567   \n",
       "\n",
       "     MDVP:Jitter(Abs)  MDVP:RAP  MDVP:PPQ  Jitter:DDP  MDVP:Shimmer  ...   \n",
       "0             0.00007   0.00370   0.00554     0.01109       0.04374  ...  \\\n",
       "1             0.00008   0.00465   0.00696     0.01394       0.06134  ...   \n",
       "2             0.00009   0.00544   0.00781     0.01633       0.05233  ...   \n",
       "3             0.00009   0.00502   0.00698     0.01505       0.05492  ...   \n",
       "4             0.00011   0.00655   0.00908     0.01966       0.06425  ...   \n",
       "..                ...       ...       ...         ...           ...  ...   \n",
       "190           0.00003   0.00263   0.00259     0.00790       0.04087  ...   \n",
       "191           0.00003   0.00331   0.00292     0.00994       0.02751  ...   \n",
       "192           0.00008   0.00624   0.00564     0.01873       0.02308  ...   \n",
       "193           0.00004   0.00370   0.00390     0.01109       0.02296  ...   \n",
       "194           0.00003   0.00295   0.00317     0.00885       0.01884  ...   \n",
       "\n",
       "     Shimmer:DDA      NHR     HNR  status      RPDE       DFA   spread1   \n",
       "0        0.06545  0.02211  21.033       1  0.414783  0.815285 -4.813031  \\\n",
       "1        0.09403  0.01929  19.085       1  0.458359  0.819521 -4.075192   \n",
       "2        0.08270  0.01309  20.651       1  0.429895  0.825288 -4.443179   \n",
       "3        0.08771  0.01353  20.644       1  0.434969  0.819235 -4.117501   \n",
       "4        0.10470  0.01767  19.649       1  0.417356  0.823484 -3.747787   \n",
       "..           ...      ...     ...     ...       ...       ...       ...   \n",
       "190      0.07008  0.02764  19.517       0  0.448439  0.657899 -6.538586   \n",
       "191      0.04812  0.01810  19.147       0  0.431674  0.683244 -6.195325   \n",
       "192      0.03804  0.10715  17.883       0  0.407567  0.655683 -6.787197   \n",
       "193      0.03794  0.07223  19.020       0  0.451221  0.643956 -6.744577   \n",
       "194      0.03078  0.04398  21.209       0  0.462803  0.664357 -5.724056   \n",
       "\n",
       "      spread2        D2       PPE  \n",
       "0    0.266482  2.301442  0.284654  \n",
       "1    0.335590  2.486855  0.368674  \n",
       "2    0.311173  2.342259  0.332634  \n",
       "3    0.334147  2.405554  0.368975  \n",
       "4    0.234513  2.332180  0.410335  \n",
       "..        ...       ...       ...  \n",
       "190  0.121952  2.657476  0.133050  \n",
       "191  0.129303  2.784312  0.168895  \n",
       "192  0.158453  2.679772  0.131728  \n",
       "193  0.207454  2.138608  0.123306  \n",
       "194  0.190667  2.555477  0.148569  \n",
       "\n",
       "[195 rows x 24 columns]"
      ]
     },
     "execution_count": 3,
     "metadata": {},
     "output_type": "execute_result"
    }
   ],
   "source": [
    "df"
   ]
  },
  {
   "cell_type": "code",
   "execution_count": 4,
   "id": "e954b1ad",
   "metadata": {},
   "outputs": [],
   "source": [
    "#dropping the name colunm\n",
    "df.drop(\"name\", inplace=True, axis=1)"
   ]
  },
  {
   "cell_type": "code",
   "execution_count": 5,
   "id": "3c674d40",
   "metadata": {},
   "outputs": [],
   "source": [
    "#Performing Feature Selection with coorelation\n",
    "columns = list(df.columns)\n",
    "for col in columns:\n",
    "    if col == 'status':\n",
    "        continue\n",
    " \n",
    "    filtered_columns = [col]\n",
    "    for col1 in df.columns:\n",
    "        if((col == col1) | (col == 'status')):\n",
    "            continue\n",
    " \n",
    "        val = df[col].corr(df[col1])\n",
    " \n",
    "        if val > 0.7:\n",
    "            # If the correlation between the two\n",
    "            # features is more than 0.7 remove\n",
    "            columns.remove(col1)\n",
    "            continue\n",
    "        else:\n",
    "            filtered_columns.append(col1)\n",
    " \n",
    "    # After each iteration filter out the columns\n",
    "    # which are not highly correlated features.\n",
    "    df = df[filtered_columns]\n"
   ]
  },
  {
   "cell_type": "code",
   "execution_count": 6,
   "id": "6cd98bed",
   "metadata": {},
   "outputs": [
    {
     "name": "stderr",
     "output_type": "stream",
     "text": [
      "/var/folders/9y/610tzfp14gv7y3_n3zqsfvv80000gn/T/ipykernel_61678/634840123.py:8: SettingWithCopyWarning: \n",
      "A value is trying to be set on a copy of a slice from a DataFrame.\n",
      "Try using .loc[row_indexer,col_indexer] = value instead\n",
      "\n",
      "See the caveats in the documentation: https://pandas.pydata.org/pandas-docs/stable/user_guide/indexing.html#returning-a-view-versus-a-copy\n",
      "  filtered_data['status'] = df['status']\n"
     ]
    },
    {
     "data": {
      "text/plain": [
       "(195, 7)"
      ]
     },
     "execution_count": 6,
     "metadata": {},
     "output_type": "execute_result"
    }
   ],
   "source": [
    "#Using Chi-Square\n",
    "#reducing the feature space up to 7 by using the chi-square test.\n",
    "X = df.drop('status', axis=1)\n",
    "X_norm = MinMaxScaler().fit_transform(X)\n",
    "selector = SelectKBest(chi2, k=6)\n",
    "selector.fit(X_norm, df['status'])\n",
    "filtered_columns = selector.get_support()\n",
    "filtered_data = X.loc[:, filtered_columns]\n",
    "filtered_data['status'] = df['status']\n",
    "df = filtered_data\n",
    "df.shape"
   ]
  },
  {
   "cell_type": "code",
   "execution_count": 7,
   "id": "f348b7dd",
   "metadata": {},
   "outputs": [],
   "source": [
    "features = df.drop('status', axis=1)\n",
    "target = df['status']"
   ]
  },
  {
   "cell_type": "code",
   "execution_count": 8,
   "id": "1cb8f311",
   "metadata": {},
   "outputs": [
    {
     "data": {
      "text/plain": [
       "((294, 6), (294,))"
      ]
     },
     "execution_count": 8,
     "metadata": {},
     "output_type": "execute_result"
    }
   ],
   "source": [
    "ros = RandomOverSampler(sampling_strategy='minority',\n",
    "                        random_state=0)\n",
    "X, Y = ros.fit_resample(features, target)\n",
    "X.shape, Y.shape"
   ]
  },
  {
   "cell_type": "code",
   "execution_count": 9,
   "id": "fe2e28d0",
   "metadata": {},
   "outputs": [
    {
     "data": {
      "text/plain": [
       "((235, 6), (59, 6))"
      ]
     },
     "execution_count": 9,
     "metadata": {},
     "output_type": "execute_result"
    }
   ],
   "source": [
    "X_train, X_val,Y_train, Y_val = train_test_split(X, Y,test_size=0.2,random_state=10)\n",
    "X_train.shape, X_val.shape"
   ]
  },
  {
   "cell_type": "code",
   "execution_count": 23,
   "id": "e0ee8900",
   "metadata": {},
   "outputs": [],
   "source": [
    "#using nural network\n",
    "# Defining the model\n",
    "model_self = keras.Sequential([\n",
    "    keras.layers.BatchNormalization(),\n",
    "    keras.layers.Dense(100, activation='relu'),\n",
    "    keras.layers.Dropout(0.3),\n",
    "    keras.layers.Dense(50, activation='relu'),\n",
    "    keras.layers.Dense(30, activation = 'sigmoid'),\n",
    "    keras.layers.Dense(20, activation = 'relu'),\n",
    "    keras.layers.Dropout(0.05),\n",
    "    keras.layers.Dense(1, activation = 'sigmoid')\n",
    "])\n"
   ]
  },
  {
   "cell_type": "code",
   "execution_count": 24,
   "id": "387a283e",
   "metadata": {},
   "outputs": [],
   "source": [
    "model_self.compile(optimizer='adam', loss='BinaryCrossentropy', metrics=['accuracy'])"
   ]
  },
  {
   "cell_type": "code",
   "execution_count": 25,
   "id": "53a14140",
   "metadata": {
    "scrolled": true
   },
   "outputs": [
    {
     "name": "stdout",
     "output_type": "stream",
     "text": [
      "Epoch 1/200\n"
     ]
    },
    {
     "name": "stderr",
     "output_type": "stream",
     "text": [
      "loc(\"mps_select\"(\"(mpsFileLoc): /AppleInternal/Library/BuildRoots/75428952-3aa4-11ee-8b65-46d450270006/Library/Caches/com.apple.xbs/Sources/MetalPerformanceShadersGraph/mpsgraph/MetalPerformanceShadersGraph/Core/Files/MPSGraphUtilities.mm\":294:0)): error: 'anec.gain_offset_control' op result #0 must be 4D/5D memref of 16-bit float or 8-bit signed integer or 8-bit unsigned integer values, but got 'memref<1x128x1x100xi1>'\n",
      "loc(\"mps_select\"(\"(mpsFileLoc): /AppleInternal/Library/BuildRoots/75428952-3aa4-11ee-8b65-46d450270006/Library/Caches/com.apple.xbs/Sources/MetalPerformanceShadersGraph/mpsgraph/MetalPerformanceShadersGraph/Core/Files/MPSGraphUtilities.mm\":294:0)): error: 'anec.gain_offset_control' op result #0 must be 4D/5D memref of 16-bit float or 8-bit signed integer or 8-bit unsigned integer values, but got 'memref<1x128x1x20xi1>'\n",
      "loc(\"mps_select\"(\"(mpsFileLoc): /AppleInternal/Library/BuildRoots/75428952-3aa4-11ee-8b65-46d450270006/Library/Caches/com.apple.xbs/Sources/MetalPerformanceShadersGraph/mpsgraph/MetalPerformanceShadersGraph/Core/Files/MPSGraphUtilities.mm\":294:0)): error: 'anec.gain_offset_control' op result #0 must be 4D/5D memref of 16-bit float or 8-bit signed integer or 8-bit unsigned integer values, but got 'memref<1x128x1x1xi1>'\n",
      "loc(\"mps_select\"(\"(mpsFileLoc): /AppleInternal/Library/BuildRoots/75428952-3aa4-11ee-8b65-46d450270006/Library/Caches/com.apple.xbs/Sources/MetalPerformanceShadersGraph/mpsgraph/MetalPerformanceShadersGraph/Core/Files/MPSGraphUtilities.mm\":294:0)): error: 'anec.gain_offset_control' op result #0 must be 4D/5D memref of 16-bit float or 8-bit signed integer or 8-bit unsigned integer values, but got 'memref<1x128x1x1xi1>'\n",
      "loc(\"mps_select\"(\"(mpsFileLoc): /AppleInternal/Library/BuildRoots/75428952-3aa4-11ee-8b65-46d450270006/Library/Caches/com.apple.xbs/Sources/MetalPerformanceShadersGraph/mpsgraph/MetalPerformanceShadersGraph/Core/Files/MPSGraphUtilities.mm\":294:0)): error: 'anec.gain_offset_control' op result #0 must be 4D/5D memref of 16-bit float or 8-bit signed integer or 8-bit unsigned integer values, but got 'memref<1x128x1x1xi1>'\n",
      "loc(\"mps_select\"(\"(mpsFileLoc): /AppleInternal/Library/BuildRoots/75428952-3aa4-11ee-8b65-46d450270006/Library/Caches/com.apple.xbs/Sources/MetalPerformanceShadersGraph/mpsgraph/MetalPerformanceShadersGraph/Core/Files/MPSGraphUtilities.mm\":294:0)): error: 'anec.gain_offset_control' op result #0 must be 4D/5D memref of 16-bit float or 8-bit signed integer or 8-bit unsigned integer values, but got 'memref<1x128x1x1xi1>'\n",
      "loc(\"mps_select\"(\"(mpsFileLoc): /AppleInternal/Library/BuildRoots/75428952-3aa4-11ee-8b65-46d450270006/Library/Caches/com.apple.xbs/Sources/MetalPerformanceShadersGraph/mpsgraph/MetalPerformanceShadersGraph/Core/Files/MPSGraphUtilities.mm\":294:0)): error: 'anec.gain_offset_control' op result #0 must be 4D/5D memref of 16-bit float or 8-bit signed integer or 8-bit unsigned integer values, but got 'memref<1x128x1x1xi1>'\n",
      "loc(\"mps_select\"(\"(mpsFileLoc): /AppleInternal/Library/BuildRoots/75428952-3aa4-11ee-8b65-46d450270006/Library/Caches/com.apple.xbs/Sources/MetalPerformanceShadersGraph/mpsgraph/MetalPerformanceShadersGraph/Core/Files/MPSGraphUtilities.mm\":294:0)): error: 'anec.gain_offset_control' op result #0 must be 4D/5D memref of 16-bit float or 8-bit signed integer or 8-bit unsigned integer values, but got 'memref<1x128x1x20xi1>'\n",
      "loc(\"mps_select\"(\"(mpsFileLoc): /AppleInternal/Library/BuildRoots/75428952-3aa4-11ee-8b65-46d450270006/Library/Caches/com.apple.xbs/Sources/MetalPerformanceShadersGraph/mpsgraph/MetalPerformanceShadersGraph/Core/Files/MPSGraphUtilities.mm\":294:0)): error: 'anec.gain_offset_control' op result #0 must be 4D/5D memref of 16-bit float or 8-bit signed integer or 8-bit unsigned integer values, but got 'memref<1x128x1x100xi1>'\n"
     ]
    },
    {
     "name": "stdout",
     "output_type": "stream",
     "text": [
      "\r",
      "1/2 [==============>...............] - ETA: 6s - loss: 0.7283 - accuracy: 0.4766"
     ]
    },
    {
     "name": "stderr",
     "output_type": "stream",
     "text": [
      "loc(\"mps_select\"(\"(mpsFileLoc): /AppleInternal/Library/BuildRoots/75428952-3aa4-11ee-8b65-46d450270006/Library/Caches/com.apple.xbs/Sources/MetalPerformanceShadersGraph/mpsgraph/MetalPerformanceShadersGraph/Core/Files/MPSGraphUtilities.mm\":294:0)): error: 'anec.gain_offset_control' op result #0 must be 4D/5D memref of 16-bit float or 8-bit signed integer or 8-bit unsigned integer values, but got 'memref<1x107x1x100xi1>'\n",
      "loc(\"mps_select\"(\"(mpsFileLoc): /AppleInternal/Library/BuildRoots/75428952-3aa4-11ee-8b65-46d450270006/Library/Caches/com.apple.xbs/Sources/MetalPerformanceShadersGraph/mpsgraph/MetalPerformanceShadersGraph/Core/Files/MPSGraphUtilities.mm\":294:0)): error: 'anec.gain_offset_control' op result #0 must be 4D/5D memref of 16-bit float or 8-bit signed integer or 8-bit unsigned integer values, but got 'memref<1x107x1x20xi1>'\n",
      "loc(\"mps_select\"(\"(mpsFileLoc): /AppleInternal/Library/BuildRoots/75428952-3aa4-11ee-8b65-46d450270006/Library/Caches/com.apple.xbs/Sources/MetalPerformanceShadersGraph/mpsgraph/MetalPerformanceShadersGraph/Core/Files/MPSGraphUtilities.mm\":294:0)): error: 'anec.gain_offset_control' op result #0 must be 4D/5D memref of 16-bit float or 8-bit signed integer or 8-bit unsigned integer values, but got 'memref<1x107x1x1xi1>'\n",
      "loc(\"mps_select\"(\"(mpsFileLoc): /AppleInternal/Library/BuildRoots/75428952-3aa4-11ee-8b65-46d450270006/Library/Caches/com.apple.xbs/Sources/MetalPerformanceShadersGraph/mpsgraph/MetalPerformanceShadersGraph/Core/Files/MPSGraphUtilities.mm\":294:0)): error: 'anec.gain_offset_control' op result #0 must be 4D/5D memref of 16-bit float or 8-bit signed integer or 8-bit unsigned integer values, but got 'memref<1x107x1x1xi1>'\n",
      "loc(\"mps_select\"(\"(mpsFileLoc): /AppleInternal/Library/BuildRoots/75428952-3aa4-11ee-8b65-46d450270006/Library/Caches/com.apple.xbs/Sources/MetalPerformanceShadersGraph/mpsgraph/MetalPerformanceShadersGraph/Core/Files/MPSGraphUtilities.mm\":294:0)): error: 'anec.gain_offset_control' op result #0 must be 4D/5D memref of 16-bit float or 8-bit signed integer or 8-bit unsigned integer values, but got 'memref<1x107x1x1xi1>'\n",
      "loc(\"mps_select\"(\"(mpsFileLoc): /AppleInternal/Library/BuildRoots/75428952-3aa4-11ee-8b65-46d450270006/Library/Caches/com.apple.xbs/Sources/MetalPerformanceShadersGraph/mpsgraph/MetalPerformanceShadersGraph/Core/Files/MPSGraphUtilities.mm\":294:0)): error: 'anec.gain_offset_control' op result #0 must be 4D/5D memref of 16-bit float or 8-bit signed integer or 8-bit unsigned integer values, but got 'memref<1x107x1x1xi1>'\n",
      "loc(\"mps_select\"(\"(mpsFileLoc): /AppleInternal/Library/BuildRoots/75428952-3aa4-11ee-8b65-46d450270006/Library/Caches/com.apple.xbs/Sources/MetalPerformanceShadersGraph/mpsgraph/MetalPerformanceShadersGraph/Core/Files/MPSGraphUtilities.mm\":294:0)): error: 'anec.gain_offset_control' op result #0 must be 4D/5D memref of 16-bit float or 8-bit signed integer or 8-bit unsigned integer values, but got 'memref<1x107x1x1xi1>'\n",
      "loc(\"mps_select\"(\"(mpsFileLoc): /AppleInternal/Library/BuildRoots/75428952-3aa4-11ee-8b65-46d450270006/Library/Caches/com.apple.xbs/Sources/MetalPerformanceShadersGraph/mpsgraph/MetalPerformanceShadersGraph/Core/Files/MPSGraphUtilities.mm\":294:0)): error: 'anec.gain_offset_control' op result #0 must be 4D/5D memref of 16-bit float or 8-bit signed integer or 8-bit unsigned integer values, but got 'memref<1x107x1x20xi1>'\n",
      "loc(\"mps_select\"(\"(mpsFileLoc): /AppleInternal/Library/BuildRoots/75428952-3aa4-11ee-8b65-46d450270006/Library/Caches/com.apple.xbs/Sources/MetalPerformanceShadersGraph/mpsgraph/MetalPerformanceShadersGraph/Core/Files/MPSGraphUtilities.mm\":294:0)): error: 'anec.gain_offset_control' op result #0 must be 4D/5D memref of 16-bit float or 8-bit signed integer or 8-bit unsigned integer values, but got 'memref<1x107x1x100xi1>'\n"
     ]
    },
    {
     "name": "stdout",
     "output_type": "stream",
     "text": [
      "\b\b\b\b\b\b\b\b\b\b\b\b\b\b\b\b\b\b\b\b\b\b\b\b\b\b\b\b\b\b\b\b\b\b\b\b\b\b\b\b\b\b\b\b\b\b\b\b\b\b\b\b\b\b\b\b\b\b\b\b\b\b\b\b\b\b\b\b\b\b\b\b\b\b\b\b\b\b\b\b\r",
      "2/2 [==============================] - ETA: 0s - loss: 0.7206 - accuracy: 0.4766"
     ]
    },
    {
     "name": "stderr",
     "output_type": "stream",
     "text": [
      "loc(\"mps_select\"(\"(mpsFileLoc): /AppleInternal/Library/BuildRoots/75428952-3aa4-11ee-8b65-46d450270006/Library/Caches/com.apple.xbs/Sources/MetalPerformanceShadersGraph/mpsgraph/MetalPerformanceShadersGraph/Core/Files/MPSGraphUtilities.mm\":294:0)): error: 'anec.gain_offset_control' op result #0 must be 4D/5D memref of 16-bit float or 8-bit signed integer or 8-bit unsigned integer values, but got 'memref<1x59x1x1xi1>'\n",
      "loc(\"mps_select\"(\"(mpsFileLoc): /AppleInternal/Library/BuildRoots/75428952-3aa4-11ee-8b65-46d450270006/Library/Caches/com.apple.xbs/Sources/MetalPerformanceShadersGraph/mpsgraph/MetalPerformanceShadersGraph/Core/Files/MPSGraphUtilities.mm\":294:0)): error: 'anec.gain_offset_control' op result #0 must be 4D/5D memref of 16-bit float or 8-bit signed integer or 8-bit unsigned integer values, but got 'memref<1x59x1x1xi1>'\n"
     ]
    },
    {
     "name": "stdout",
     "output_type": "stream",
     "text": [
      "2/2 [==============================] - 11s 4s/step - loss: 0.7206 - accuracy: 0.4766 - val_loss: 0.6842 - val_accuracy: 0.6102\n",
      "Epoch 2/200\n",
      "2/2 [==============================] - 0s 28ms/step - loss: 0.6985 - accuracy: 0.4766 - val_loss: 0.6769 - val_accuracy: 0.6102\n",
      "Epoch 3/200\n",
      "2/2 [==============================] - 0s 32ms/step - loss: 0.6884 - accuracy: 0.4979 - val_loss: 0.6718 - val_accuracy: 0.6102\n",
      "Epoch 4/200\n",
      "2/2 [==============================] - 0s 27ms/step - loss: 0.6674 - accuracy: 0.6043 - val_loss: 0.6680 - val_accuracy: 0.6102\n",
      "Epoch 5/200\n",
      "2/2 [==============================] - 0s 26ms/step - loss: 0.6508 - accuracy: 0.6894 - val_loss: 0.6658 - val_accuracy: 0.6102\n",
      "Epoch 6/200\n",
      "2/2 [==============================] - 0s 28ms/step - loss: 0.6466 - accuracy: 0.7191 - val_loss: 0.6669 - val_accuracy: 0.6102\n",
      "Epoch 7/200\n",
      "2/2 [==============================] - 0s 28ms/step - loss: 0.6404 - accuracy: 0.7234 - val_loss: 0.6698 - val_accuracy: 0.6102\n",
      "Epoch 8/200\n",
      "2/2 [==============================] - 0s 29ms/step - loss: 0.6279 - accuracy: 0.7447 - val_loss: 0.6752 - val_accuracy: 0.6102\n",
      "Epoch 9/200\n",
      "2/2 [==============================] - 0s 26ms/step - loss: 0.6161 - accuracy: 0.7319 - val_loss: 0.6838 - val_accuracy: 0.6102\n",
      "Epoch 10/200\n",
      "2/2 [==============================] - 0s 27ms/step - loss: 0.6015 - accuracy: 0.7149 - val_loss: 0.6936 - val_accuracy: 0.6102\n",
      "Epoch 11/200\n",
      "2/2 [==============================] - 0s 26ms/step - loss: 0.5809 - accuracy: 0.7404 - val_loss: 0.7036 - val_accuracy: 0.6102\n",
      "Epoch 12/200\n",
      "2/2 [==============================] - 0s 27ms/step - loss: 0.5778 - accuracy: 0.7234 - val_loss: 0.7144 - val_accuracy: 0.6102\n",
      "Epoch 13/200\n",
      "2/2 [==============================] - 0s 25ms/step - loss: 0.5641 - accuracy: 0.7191 - val_loss: 0.7258 - val_accuracy: 0.6102\n",
      "Epoch 14/200\n",
      "2/2 [==============================] - 0s 27ms/step - loss: 0.5458 - accuracy: 0.7362 - val_loss: 0.7364 - val_accuracy: 0.6102\n",
      "Epoch 15/200\n",
      "2/2 [==============================] - 0s 26ms/step - loss: 0.5317 - accuracy: 0.7319 - val_loss: 0.7474 - val_accuracy: 0.6102\n",
      "Epoch 16/200\n",
      "2/2 [==============================] - 0s 25ms/step - loss: 0.5193 - accuracy: 0.7319 - val_loss: 0.7593 - val_accuracy: 0.6102\n",
      "Epoch 17/200\n",
      "2/2 [==============================] - 0s 26ms/step - loss: 0.5128 - accuracy: 0.7277 - val_loss: 0.7722 - val_accuracy: 0.6102\n",
      "Epoch 18/200\n",
      "2/2 [==============================] - 0s 27ms/step - loss: 0.4965 - accuracy: 0.7532 - val_loss: 0.7849 - val_accuracy: 0.6102\n",
      "Epoch 19/200\n",
      "2/2 [==============================] - 0s 26ms/step - loss: 0.4855 - accuracy: 0.7489 - val_loss: 0.7985 - val_accuracy: 0.6102\n",
      "Epoch 20/200\n",
      "2/2 [==============================] - 0s 25ms/step - loss: 0.4755 - accuracy: 0.7404 - val_loss: 0.8120 - val_accuracy: 0.6102\n",
      "Epoch 21/200\n",
      "2/2 [==============================] - 0s 26ms/step - loss: 0.4666 - accuracy: 0.7489 - val_loss: 0.8257 - val_accuracy: 0.6102\n",
      "Epoch 22/200\n",
      "2/2 [==============================] - 0s 26ms/step - loss: 0.4635 - accuracy: 0.7447 - val_loss: 0.8400 - val_accuracy: 0.6102\n",
      "Epoch 23/200\n",
      "2/2 [==============================] - 0s 26ms/step - loss: 0.4482 - accuracy: 0.7745 - val_loss: 0.8528 - val_accuracy: 0.6102\n",
      "Epoch 24/200\n",
      "2/2 [==============================] - 0s 27ms/step - loss: 0.4240 - accuracy: 0.7915 - val_loss: 0.8654 - val_accuracy: 0.6102\n",
      "Epoch 25/200\n",
      "2/2 [==============================] - 0s 27ms/step - loss: 0.4320 - accuracy: 0.7617 - val_loss: 0.8772 - val_accuracy: 0.6102\n",
      "Epoch 26/200\n",
      "2/2 [==============================] - 0s 28ms/step - loss: 0.4208 - accuracy: 0.7574 - val_loss: 0.8892 - val_accuracy: 0.6102\n",
      "Epoch 27/200\n",
      "2/2 [==============================] - 0s 25ms/step - loss: 0.4000 - accuracy: 0.7872 - val_loss: 0.8989 - val_accuracy: 0.6102\n",
      "Epoch 28/200\n",
      "2/2 [==============================] - 0s 25ms/step - loss: 0.3974 - accuracy: 0.7787 - val_loss: 0.9091 - val_accuracy: 0.6102\n",
      "Epoch 29/200\n",
      "2/2 [==============================] - 0s 26ms/step - loss: 0.3848 - accuracy: 0.7830 - val_loss: 0.9168 - val_accuracy: 0.6102\n",
      "Epoch 30/200\n",
      "2/2 [==============================] - 0s 26ms/step - loss: 0.3803 - accuracy: 0.7915 - val_loss: 0.9246 - val_accuracy: 0.6102\n",
      "Epoch 31/200\n",
      "2/2 [==============================] - 0s 26ms/step - loss: 0.3772 - accuracy: 0.8043 - val_loss: 0.9302 - val_accuracy: 0.6102\n",
      "Epoch 32/200\n",
      "2/2 [==============================] - 0s 26ms/step - loss: 0.3531 - accuracy: 0.8128 - val_loss: 0.9372 - val_accuracy: 0.6102\n",
      "Epoch 33/200\n",
      "2/2 [==============================] - 0s 27ms/step - loss: 0.3615 - accuracy: 0.8170 - val_loss: 0.9426 - val_accuracy: 0.6102\n",
      "Epoch 34/200\n",
      "2/2 [==============================] - 0s 25ms/step - loss: 0.3554 - accuracy: 0.8000 - val_loss: 0.9464 - val_accuracy: 0.6102\n",
      "Epoch 35/200\n",
      "2/2 [==============================] - 0s 26ms/step - loss: 0.3552 - accuracy: 0.8298 - val_loss: 0.9505 - val_accuracy: 0.6102\n",
      "Epoch 36/200\n",
      "2/2 [==============================] - 0s 28ms/step - loss: 0.3432 - accuracy: 0.8340 - val_loss: 0.9506 - val_accuracy: 0.6102\n",
      "Epoch 37/200\n",
      "2/2 [==============================] - 0s 26ms/step - loss: 0.3503 - accuracy: 0.8340 - val_loss: 0.9501 - val_accuracy: 0.6102\n",
      "Epoch 38/200\n",
      "2/2 [==============================] - 0s 25ms/step - loss: 0.3333 - accuracy: 0.8383 - val_loss: 0.9522 - val_accuracy: 0.6102\n",
      "Epoch 39/200\n",
      "2/2 [==============================] - 0s 26ms/step - loss: 0.3244 - accuracy: 0.8511 - val_loss: 0.9530 - val_accuracy: 0.6102\n",
      "Epoch 40/200\n",
      "2/2 [==============================] - 0s 27ms/step - loss: 0.2970 - accuracy: 0.8681 - val_loss: 0.9564 - val_accuracy: 0.6271\n",
      "Epoch 41/200\n",
      "2/2 [==============================] - 0s 25ms/step - loss: 0.3062 - accuracy: 0.8681 - val_loss: 0.9592 - val_accuracy: 0.6271\n",
      "Epoch 42/200\n",
      "2/2 [==============================] - 0s 26ms/step - loss: 0.3103 - accuracy: 0.8638 - val_loss: 0.9594 - val_accuracy: 0.6271\n",
      "Epoch 43/200\n",
      "2/2 [==============================] - 0s 27ms/step - loss: 0.2976 - accuracy: 0.8511 - val_loss: 0.9622 - val_accuracy: 0.6271\n",
      "Epoch 44/200\n",
      "2/2 [==============================] - 0s 26ms/step - loss: 0.2993 - accuracy: 0.8596 - val_loss: 0.9635 - val_accuracy: 0.6271\n",
      "Epoch 45/200\n",
      "2/2 [==============================] - 0s 26ms/step - loss: 0.3047 - accuracy: 0.8681 - val_loss: 0.9627 - val_accuracy: 0.6271\n",
      "Epoch 46/200\n",
      "2/2 [==============================] - 0s 26ms/step - loss: 0.3047 - accuracy: 0.8553 - val_loss: 0.9591 - val_accuracy: 0.6271\n",
      "Epoch 47/200\n",
      "2/2 [==============================] - 0s 26ms/step - loss: 0.2673 - accuracy: 0.8596 - val_loss: 0.9595 - val_accuracy: 0.6271\n",
      "Epoch 48/200\n",
      "2/2 [==============================] - 0s 26ms/step - loss: 0.2715 - accuracy: 0.8979 - val_loss: 0.9620 - val_accuracy: 0.6271\n",
      "Epoch 49/200\n",
      "2/2 [==============================] - 0s 26ms/step - loss: 0.2744 - accuracy: 0.9021 - val_loss: 0.9654 - val_accuracy: 0.6271\n",
      "Epoch 50/200\n",
      "2/2 [==============================] - 0s 25ms/step - loss: 0.2596 - accuracy: 0.8851 - val_loss: 0.9664 - val_accuracy: 0.6271\n",
      "Epoch 51/200\n",
      "2/2 [==============================] - 0s 26ms/step - loss: 0.2573 - accuracy: 0.8979 - val_loss: 0.9680 - val_accuracy: 0.6271\n",
      "Epoch 52/200\n",
      "2/2 [==============================] - 0s 26ms/step - loss: 0.2593 - accuracy: 0.8894 - val_loss: 0.9643 - val_accuracy: 0.6271\n",
      "Epoch 53/200\n",
      "2/2 [==============================] - 0s 26ms/step - loss: 0.2445 - accuracy: 0.9021 - val_loss: 0.9584 - val_accuracy: 0.6271\n",
      "Epoch 54/200\n",
      "2/2 [==============================] - 0s 27ms/step - loss: 0.2582 - accuracy: 0.8979 - val_loss: 0.9496 - val_accuracy: 0.6271\n",
      "Epoch 55/200\n",
      "2/2 [==============================] - 0s 25ms/step - loss: 0.2410 - accuracy: 0.8894 - val_loss: 0.9428 - val_accuracy: 0.6441\n",
      "Epoch 56/200\n",
      "2/2 [==============================] - 0s 25ms/step - loss: 0.2495 - accuracy: 0.9064 - val_loss: 0.9362 - val_accuracy: 0.6441\n",
      "Epoch 57/200\n",
      "2/2 [==============================] - 0s 25ms/step - loss: 0.2214 - accuracy: 0.9106 - val_loss: 0.9318 - val_accuracy: 0.6441\n",
      "Epoch 58/200\n",
      "2/2 [==============================] - 0s 26ms/step - loss: 0.2208 - accuracy: 0.9064 - val_loss: 0.9265 - val_accuracy: 0.6610\n",
      "Epoch 59/200\n",
      "2/2 [==============================] - 0s 27ms/step - loss: 0.2186 - accuracy: 0.9191 - val_loss: 0.9236 - val_accuracy: 0.6610\n",
      "Epoch 60/200\n",
      "2/2 [==============================] - 0s 25ms/step - loss: 0.2165 - accuracy: 0.9277 - val_loss: 0.9198 - val_accuracy: 0.6610\n",
      "Epoch 61/200\n",
      "2/2 [==============================] - 0s 25ms/step - loss: 0.2480 - accuracy: 0.9064 - val_loss: 0.9162 - val_accuracy: 0.6610\n",
      "Epoch 62/200\n",
      "2/2 [==============================] - 0s 26ms/step - loss: 0.2182 - accuracy: 0.9319 - val_loss: 0.9061 - val_accuracy: 0.6610\n",
      "Epoch 63/200\n",
      "2/2 [==============================] - 0s 30ms/step - loss: 0.2226 - accuracy: 0.9149 - val_loss: 0.8966 - val_accuracy: 0.6949\n",
      "Epoch 64/200\n",
      "2/2 [==============================] - 0s 28ms/step - loss: 0.2210 - accuracy: 0.9149 - val_loss: 0.8872 - val_accuracy: 0.6949\n",
      "Epoch 65/200\n",
      "2/2 [==============================] - 0s 27ms/step - loss: 0.2154 - accuracy: 0.9149 - val_loss: 0.8778 - val_accuracy: 0.6949\n",
      "Epoch 66/200\n",
      "2/2 [==============================] - 0s 30ms/step - loss: 0.2029 - accuracy: 0.9191 - val_loss: 0.8696 - val_accuracy: 0.6949\n",
      "Epoch 67/200\n",
      "2/2 [==============================] - 0s 27ms/step - loss: 0.1980 - accuracy: 0.9319 - val_loss: 0.8672 - val_accuracy: 0.6949\n",
      "Epoch 68/200\n",
      "2/2 [==============================] - 0s 27ms/step - loss: 0.2042 - accuracy: 0.9277 - val_loss: 0.8659 - val_accuracy: 0.6949\n",
      "Epoch 69/200\n",
      "2/2 [==============================] - 0s 27ms/step - loss: 0.2089 - accuracy: 0.9149 - val_loss: 0.8649 - val_accuracy: 0.6949\n",
      "Epoch 70/200\n",
      "2/2 [==============================] - 0s 26ms/step - loss: 0.2106 - accuracy: 0.9191 - val_loss: 0.8612 - val_accuracy: 0.6949\n",
      "Epoch 71/200\n",
      "2/2 [==============================] - 0s 28ms/step - loss: 0.1777 - accuracy: 0.9362 - val_loss: 0.8569 - val_accuracy: 0.6949\n",
      "Epoch 72/200\n",
      "2/2 [==============================] - 0s 25ms/step - loss: 0.1931 - accuracy: 0.9277 - val_loss: 0.8485 - val_accuracy: 0.6949\n",
      "Epoch 73/200\n",
      "2/2 [==============================] - 0s 25ms/step - loss: 0.1919 - accuracy: 0.9277 - val_loss: 0.8351 - val_accuracy: 0.7119\n",
      "Epoch 74/200\n",
      "2/2 [==============================] - 0s 27ms/step - loss: 0.1901 - accuracy: 0.9277 - val_loss: 0.8273 - val_accuracy: 0.7119\n",
      "Epoch 75/200\n",
      "2/2 [==============================] - 0s 26ms/step - loss: 0.1920 - accuracy: 0.9489 - val_loss: 0.8165 - val_accuracy: 0.7119\n",
      "Epoch 76/200\n",
      "2/2 [==============================] - 0s 26ms/step - loss: 0.1753 - accuracy: 0.9404 - val_loss: 0.8097 - val_accuracy: 0.7119\n",
      "Epoch 77/200\n",
      "2/2 [==============================] - 0s 28ms/step - loss: 0.1824 - accuracy: 0.9319 - val_loss: 0.8060 - val_accuracy: 0.7119\n",
      "Epoch 78/200\n",
      "2/2 [==============================] - 0s 25ms/step - loss: 0.1842 - accuracy: 0.9319 - val_loss: 0.8031 - val_accuracy: 0.7119\n",
      "Epoch 79/200\n",
      "2/2 [==============================] - 0s 25ms/step - loss: 0.1699 - accuracy: 0.9447 - val_loss: 0.8017 - val_accuracy: 0.7288\n",
      "Epoch 80/200\n",
      "2/2 [==============================] - 0s 28ms/step - loss: 0.1697 - accuracy: 0.9319 - val_loss: 0.8001 - val_accuracy: 0.7288\n",
      "Epoch 81/200\n",
      "2/2 [==============================] - 0s 26ms/step - loss: 0.1896 - accuracy: 0.9234 - val_loss: 0.7956 - val_accuracy: 0.7288\n",
      "Epoch 82/200\n",
      "2/2 [==============================] - 0s 26ms/step - loss: 0.1883 - accuracy: 0.9234 - val_loss: 0.7901 - val_accuracy: 0.7288\n",
      "Epoch 83/200\n",
      "2/2 [==============================] - 0s 26ms/step - loss: 0.1817 - accuracy: 0.9404 - val_loss: 0.7832 - val_accuracy: 0.7288\n",
      "Epoch 84/200\n",
      "2/2 [==============================] - 0s 26ms/step - loss: 0.1709 - accuracy: 0.9404 - val_loss: 0.7771 - val_accuracy: 0.7288\n",
      "Epoch 85/200\n",
      "2/2 [==============================] - 0s 27ms/step - loss: 0.1937 - accuracy: 0.9277 - val_loss: 0.7702 - val_accuracy: 0.7288\n",
      "Epoch 86/200\n",
      "2/2 [==============================] - 0s 26ms/step - loss: 0.1777 - accuracy: 0.9447 - val_loss: 0.7612 - val_accuracy: 0.7288\n",
      "Epoch 87/200\n",
      "2/2 [==============================] - 0s 26ms/step - loss: 0.1421 - accuracy: 0.9660 - val_loss: 0.7544 - val_accuracy: 0.7458\n",
      "Epoch 88/200\n",
      "2/2 [==============================] - 0s 26ms/step - loss: 0.1568 - accuracy: 0.9404 - val_loss: 0.7449 - val_accuracy: 0.7458\n",
      "Epoch 89/200\n",
      "2/2 [==============================] - 0s 27ms/step - loss: 0.1593 - accuracy: 0.9447 - val_loss: 0.7361 - val_accuracy: 0.7627\n",
      "Epoch 90/200\n",
      "2/2 [==============================] - 0s 25ms/step - loss: 0.1784 - accuracy: 0.9362 - val_loss: 0.7206 - val_accuracy: 0.7627\n",
      "Epoch 91/200\n",
      "2/2 [==============================] - 0s 26ms/step - loss: 0.1739 - accuracy: 0.9234 - val_loss: 0.7101 - val_accuracy: 0.7797\n",
      "Epoch 92/200\n",
      "2/2 [==============================] - 0s 26ms/step - loss: 0.1559 - accuracy: 0.9447 - val_loss: 0.6942 - val_accuracy: 0.7797\n",
      "Epoch 93/200\n",
      "2/2 [==============================] - 0s 27ms/step - loss: 0.1697 - accuracy: 0.9617 - val_loss: 0.6791 - val_accuracy: 0.7797\n",
      "Epoch 94/200\n",
      "2/2 [==============================] - 0s 26ms/step - loss: 0.1715 - accuracy: 0.9404 - val_loss: 0.6697 - val_accuracy: 0.7797\n",
      "Epoch 95/200\n",
      "2/2 [==============================] - 0s 26ms/step - loss: 0.1733 - accuracy: 0.9319 - val_loss: 0.6622 - val_accuracy: 0.7797\n",
      "Epoch 96/200\n",
      "2/2 [==============================] - 0s 26ms/step - loss: 0.1491 - accuracy: 0.9574 - val_loss: 0.6530 - val_accuracy: 0.7797\n",
      "Epoch 97/200\n",
      "2/2 [==============================] - 0s 27ms/step - loss: 0.1475 - accuracy: 0.9574 - val_loss: 0.6447 - val_accuracy: 0.7797\n",
      "Epoch 98/200\n",
      "2/2 [==============================] - 0s 26ms/step - loss: 0.1827 - accuracy: 0.9149 - val_loss: 0.6454 - val_accuracy: 0.7797\n",
      "Epoch 99/200\n",
      "2/2 [==============================] - 0s 26ms/step - loss: 0.1710 - accuracy: 0.9447 - val_loss: 0.6540 - val_accuracy: 0.7797\n",
      "Epoch 100/200\n",
      "2/2 [==============================] - 0s 27ms/step - loss: 0.1729 - accuracy: 0.9319 - val_loss: 0.6512 - val_accuracy: 0.7797\n",
      "Epoch 101/200\n",
      "2/2 [==============================] - 0s 26ms/step - loss: 0.1498 - accuracy: 0.9532 - val_loss: 0.6482 - val_accuracy: 0.7797\n",
      "Epoch 102/200\n",
      "2/2 [==============================] - 0s 25ms/step - loss: 0.1525 - accuracy: 0.9532 - val_loss: 0.6327 - val_accuracy: 0.7966\n",
      "Epoch 103/200\n",
      "2/2 [==============================] - 0s 25ms/step - loss: 0.1379 - accuracy: 0.9574 - val_loss: 0.6111 - val_accuracy: 0.7966\n",
      "Epoch 104/200\n",
      "2/2 [==============================] - 0s 26ms/step - loss: 0.1345 - accuracy: 0.9617 - val_loss: 0.5891 - val_accuracy: 0.7797\n",
      "Epoch 105/200\n",
      "2/2 [==============================] - 0s 26ms/step - loss: 0.1312 - accuracy: 0.9489 - val_loss: 0.5719 - val_accuracy: 0.7797\n",
      "Epoch 106/200\n",
      "2/2 [==============================] - 0s 26ms/step - loss: 0.1567 - accuracy: 0.9574 - val_loss: 0.5657 - val_accuracy: 0.7797\n",
      "Epoch 107/200\n",
      "2/2 [==============================] - 0s 25ms/step - loss: 0.1769 - accuracy: 0.9404 - val_loss: 0.5693 - val_accuracy: 0.7797\n",
      "Epoch 108/200\n",
      "2/2 [==============================] - 0s 26ms/step - loss: 0.1491 - accuracy: 0.9447 - val_loss: 0.5729 - val_accuracy: 0.7797\n",
      "Epoch 109/200\n",
      "2/2 [==============================] - 0s 25ms/step - loss: 0.1591 - accuracy: 0.9319 - val_loss: 0.5706 - val_accuracy: 0.7797\n",
      "Epoch 110/200\n",
      "2/2 [==============================] - 0s 25ms/step - loss: 0.1429 - accuracy: 0.9489 - val_loss: 0.5629 - val_accuracy: 0.7797\n",
      "Epoch 111/200\n",
      "2/2 [==============================] - 0s 26ms/step - loss: 0.1328 - accuracy: 0.9660 - val_loss: 0.5498 - val_accuracy: 0.7797\n",
      "Epoch 112/200\n",
      "2/2 [==============================] - 0s 26ms/step - loss: 0.1353 - accuracy: 0.9574 - val_loss: 0.5345 - val_accuracy: 0.7797\n",
      "Epoch 113/200\n",
      "2/2 [==============================] - 0s 25ms/step - loss: 0.1433 - accuracy: 0.9617 - val_loss: 0.5136 - val_accuracy: 0.7966\n",
      "Epoch 114/200\n",
      "2/2 [==============================] - 0s 25ms/step - loss: 0.1747 - accuracy: 0.9277 - val_loss: 0.5022 - val_accuracy: 0.7966\n",
      "Epoch 115/200\n",
      "2/2 [==============================] - 0s 25ms/step - loss: 0.1199 - accuracy: 0.9617 - val_loss: 0.4836 - val_accuracy: 0.7966\n",
      "Epoch 116/200\n",
      "2/2 [==============================] - 0s 25ms/step - loss: 0.1626 - accuracy: 0.9532 - val_loss: 0.4749 - val_accuracy: 0.8136\n",
      "Epoch 117/200\n"
     ]
    },
    {
     "name": "stdout",
     "output_type": "stream",
     "text": [
      "2/2 [==============================] - 0s 27ms/step - loss: 0.1164 - accuracy: 0.9617 - val_loss: 0.4653 - val_accuracy: 0.8136\n",
      "Epoch 118/200\n",
      "2/2 [==============================] - 0s 25ms/step - loss: 0.1262 - accuracy: 0.9660 - val_loss: 0.4594 - val_accuracy: 0.8136\n",
      "Epoch 119/200\n",
      "2/2 [==============================] - 0s 25ms/step - loss: 0.1393 - accuracy: 0.9489 - val_loss: 0.4550 - val_accuracy: 0.8136\n",
      "Epoch 120/200\n",
      "2/2 [==============================] - 0s 26ms/step - loss: 0.1341 - accuracy: 0.9574 - val_loss: 0.4489 - val_accuracy: 0.8136\n",
      "Epoch 121/200\n",
      "2/2 [==============================] - 0s 25ms/step - loss: 0.1704 - accuracy: 0.9362 - val_loss: 0.4500 - val_accuracy: 0.8136\n",
      "Epoch 122/200\n",
      "2/2 [==============================] - 0s 25ms/step - loss: 0.1377 - accuracy: 0.9532 - val_loss: 0.4449 - val_accuracy: 0.8305\n",
      "Epoch 123/200\n",
      "2/2 [==============================] - 0s 24ms/step - loss: 0.1390 - accuracy: 0.9489 - val_loss: 0.4434 - val_accuracy: 0.8305\n",
      "Epoch 124/200\n",
      "2/2 [==============================] - 0s 24ms/step - loss: 0.1109 - accuracy: 0.9702 - val_loss: 0.4517 - val_accuracy: 0.8136\n",
      "Epoch 125/200\n",
      "2/2 [==============================] - 0s 24ms/step - loss: 0.1206 - accuracy: 0.9574 - val_loss: 0.4548 - val_accuracy: 0.8136\n",
      "Epoch 126/200\n",
      "2/2 [==============================] - 0s 25ms/step - loss: 0.1148 - accuracy: 0.9660 - val_loss: 0.4509 - val_accuracy: 0.8305\n",
      "Epoch 127/200\n",
      "2/2 [==============================] - 0s 24ms/step - loss: 0.1358 - accuracy: 0.9617 - val_loss: 0.4441 - val_accuracy: 0.8305\n",
      "Epoch 128/200\n",
      "2/2 [==============================] - 0s 25ms/step - loss: 0.1368 - accuracy: 0.9532 - val_loss: 0.4350 - val_accuracy: 0.8305\n",
      "Epoch 129/200\n",
      "2/2 [==============================] - 0s 26ms/step - loss: 0.1401 - accuracy: 0.9574 - val_loss: 0.4214 - val_accuracy: 0.8475\n",
      "Epoch 130/200\n",
      "2/2 [==============================] - 0s 25ms/step - loss: 0.1685 - accuracy: 0.9447 - val_loss: 0.4088 - val_accuracy: 0.8475\n",
      "Epoch 131/200\n",
      "2/2 [==============================] - 0s 25ms/step - loss: 0.1440 - accuracy: 0.9574 - val_loss: 0.3963 - val_accuracy: 0.8475\n",
      "Epoch 132/200\n",
      "2/2 [==============================] - 0s 24ms/step - loss: 0.1356 - accuracy: 0.9532 - val_loss: 0.3870 - val_accuracy: 0.8475\n",
      "Epoch 133/200\n",
      "2/2 [==============================] - 0s 25ms/step - loss: 0.1337 - accuracy: 0.9617 - val_loss: 0.3796 - val_accuracy: 0.8644\n",
      "Epoch 134/200\n",
      "2/2 [==============================] - 0s 24ms/step - loss: 0.1422 - accuracy: 0.9489 - val_loss: 0.3708 - val_accuracy: 0.8644\n",
      "Epoch 135/200\n",
      "2/2 [==============================] - 0s 25ms/step - loss: 0.1464 - accuracy: 0.9532 - val_loss: 0.3609 - val_accuracy: 0.8644\n",
      "Epoch 136/200\n",
      "2/2 [==============================] - 0s 24ms/step - loss: 0.1305 - accuracy: 0.9617 - val_loss: 0.3514 - val_accuracy: 0.8644\n",
      "Epoch 137/200\n",
      "2/2 [==============================] - 0s 26ms/step - loss: 0.1500 - accuracy: 0.9404 - val_loss: 0.3469 - val_accuracy: 0.8644\n",
      "Epoch 138/200\n",
      "2/2 [==============================] - 0s 25ms/step - loss: 0.1320 - accuracy: 0.9532 - val_loss: 0.3432 - val_accuracy: 0.8814\n",
      "Epoch 139/200\n",
      "2/2 [==============================] - 0s 26ms/step - loss: 0.1461 - accuracy: 0.9404 - val_loss: 0.3390 - val_accuracy: 0.8814\n",
      "Epoch 140/200\n",
      "2/2 [==============================] - 0s 24ms/step - loss: 0.1185 - accuracy: 0.9660 - val_loss: 0.3357 - val_accuracy: 0.8814\n",
      "Epoch 141/200\n",
      "2/2 [==============================] - 0s 26ms/step - loss: 0.1278 - accuracy: 0.9447 - val_loss: 0.3325 - val_accuracy: 0.8814\n",
      "Epoch 142/200\n",
      "2/2 [==============================] - 0s 25ms/step - loss: 0.1289 - accuracy: 0.9532 - val_loss: 0.3312 - val_accuracy: 0.8814\n",
      "Epoch 143/200\n",
      "2/2 [==============================] - 0s 25ms/step - loss: 0.1321 - accuracy: 0.9617 - val_loss: 0.3274 - val_accuracy: 0.8814\n",
      "Epoch 144/200\n",
      "2/2 [==============================] - 0s 26ms/step - loss: 0.1266 - accuracy: 0.9574 - val_loss: 0.3250 - val_accuracy: 0.8814\n",
      "Epoch 145/200\n",
      "2/2 [==============================] - 0s 26ms/step - loss: 0.1281 - accuracy: 0.9532 - val_loss: 0.3178 - val_accuracy: 0.8814\n",
      "Epoch 146/200\n",
      "2/2 [==============================] - 0s 26ms/step - loss: 0.1192 - accuracy: 0.9617 - val_loss: 0.3104 - val_accuracy: 0.8814\n",
      "Epoch 147/200\n",
      "2/2 [==============================] - 0s 25ms/step - loss: 0.1125 - accuracy: 0.9660 - val_loss: 0.3031 - val_accuracy: 0.8814\n",
      "Epoch 148/200\n",
      "2/2 [==============================] - 0s 26ms/step - loss: 0.1175 - accuracy: 0.9617 - val_loss: 0.2959 - val_accuracy: 0.8983\n",
      "Epoch 149/200\n",
      "2/2 [==============================] - 0s 26ms/step - loss: 0.1293 - accuracy: 0.9532 - val_loss: 0.2865 - val_accuracy: 0.8983\n",
      "Epoch 150/200\n",
      "2/2 [==============================] - 0s 26ms/step - loss: 0.1113 - accuracy: 0.9702 - val_loss: 0.2834 - val_accuracy: 0.8983\n",
      "Epoch 151/200\n",
      "2/2 [==============================] - 0s 26ms/step - loss: 0.1184 - accuracy: 0.9574 - val_loss: 0.2802 - val_accuracy: 0.8983\n",
      "Epoch 152/200\n",
      "2/2 [==============================] - 0s 26ms/step - loss: 0.1280 - accuracy: 0.9660 - val_loss: 0.2783 - val_accuracy: 0.8983\n",
      "Epoch 153/200\n",
      "2/2 [==============================] - 0s 26ms/step - loss: 0.1277 - accuracy: 0.9532 - val_loss: 0.2779 - val_accuracy: 0.8983\n",
      "Epoch 154/200\n",
      "2/2 [==============================] - 0s 26ms/step - loss: 0.1160 - accuracy: 0.9574 - val_loss: 0.2827 - val_accuracy: 0.8983\n",
      "Epoch 155/200\n",
      "2/2 [==============================] - 0s 25ms/step - loss: 0.1467 - accuracy: 0.9447 - val_loss: 0.2876 - val_accuracy: 0.8983\n",
      "Epoch 156/200\n",
      "2/2 [==============================] - 0s 26ms/step - loss: 0.1144 - accuracy: 0.9574 - val_loss: 0.2897 - val_accuracy: 0.8983\n",
      "Epoch 157/200\n",
      "2/2 [==============================] - 0s 27ms/step - loss: 0.1264 - accuracy: 0.9532 - val_loss: 0.2901 - val_accuracy: 0.8983\n",
      "Epoch 158/200\n",
      "2/2 [==============================] - 0s 26ms/step - loss: 0.1185 - accuracy: 0.9574 - val_loss: 0.2908 - val_accuracy: 0.9322\n",
      "Epoch 159/200\n",
      "2/2 [==============================] - 0s 26ms/step - loss: 0.1256 - accuracy: 0.9702 - val_loss: 0.2906 - val_accuracy: 0.9322\n",
      "Epoch 160/200\n",
      "2/2 [==============================] - 0s 27ms/step - loss: 0.1053 - accuracy: 0.9660 - val_loss: 0.2866 - val_accuracy: 0.9322\n",
      "Epoch 161/200\n",
      "2/2 [==============================] - 0s 27ms/step - loss: 0.1153 - accuracy: 0.9574 - val_loss: 0.2800 - val_accuracy: 0.9322\n",
      "Epoch 162/200\n",
      "2/2 [==============================] - 0s 26ms/step - loss: 0.1193 - accuracy: 0.9702 - val_loss: 0.2713 - val_accuracy: 0.9322\n",
      "Epoch 163/200\n",
      "2/2 [==============================] - 0s 25ms/step - loss: 0.1203 - accuracy: 0.9574 - val_loss: 0.2609 - val_accuracy: 0.9153\n",
      "Epoch 164/200\n",
      "2/2 [==============================] - 0s 27ms/step - loss: 0.0992 - accuracy: 0.9617 - val_loss: 0.2546 - val_accuracy: 0.9153\n",
      "Epoch 165/200\n",
      "2/2 [==============================] - 0s 26ms/step - loss: 0.1265 - accuracy: 0.9532 - val_loss: 0.2493 - val_accuracy: 0.9153\n",
      "Epoch 166/200\n",
      "2/2 [==============================] - 0s 27ms/step - loss: 0.0934 - accuracy: 0.9660 - val_loss: 0.2467 - val_accuracy: 0.9153\n",
      "Epoch 167/200\n",
      "2/2 [==============================] - 0s 26ms/step - loss: 0.1217 - accuracy: 0.9532 - val_loss: 0.2463 - val_accuracy: 0.9153\n",
      "Epoch 168/200\n",
      "2/2 [==============================] - 0s 27ms/step - loss: 0.0976 - accuracy: 0.9574 - val_loss: 0.2455 - val_accuracy: 0.9322\n",
      "Epoch 169/200\n",
      "2/2 [==============================] - 0s 27ms/step - loss: 0.1022 - accuracy: 0.9617 - val_loss: 0.2468 - val_accuracy: 0.9322\n",
      "Epoch 170/200\n",
      "2/2 [==============================] - 0s 26ms/step - loss: 0.1220 - accuracy: 0.9574 - val_loss: 0.2517 - val_accuracy: 0.9322\n",
      "Epoch 171/200\n",
      "2/2 [==============================] - 0s 26ms/step - loss: 0.1082 - accuracy: 0.9660 - val_loss: 0.2538 - val_accuracy: 0.9322\n",
      "Epoch 172/200\n",
      "2/2 [==============================] - 0s 26ms/step - loss: 0.1048 - accuracy: 0.9660 - val_loss: 0.2564 - val_accuracy: 0.9322\n",
      "Epoch 173/200\n",
      "2/2 [==============================] - 0s 26ms/step - loss: 0.1060 - accuracy: 0.9660 - val_loss: 0.2580 - val_accuracy: 0.9322\n",
      "Epoch 174/200\n",
      "2/2 [==============================] - 0s 26ms/step - loss: 0.1231 - accuracy: 0.9532 - val_loss: 0.2600 - val_accuracy: 0.9322\n"
     ]
    },
    {
     "name": "stdout",
     "output_type": "stream",
     "text": [
      "Epoch 175/200\n",
      "2/2 [==============================] - 0s 26ms/step - loss: 0.1037 - accuracy: 0.9660 - val_loss: 0.2597 - val_accuracy: 0.9322\n",
      "Epoch 176/200\n",
      "2/2 [==============================] - 0s 26ms/step - loss: 0.1075 - accuracy: 0.9574 - val_loss: 0.2568 - val_accuracy: 0.9322\n",
      "Epoch 177/200\n",
      "2/2 [==============================] - 0s 25ms/step - loss: 0.1239 - accuracy: 0.9574 - val_loss: 0.2517 - val_accuracy: 0.9322\n",
      "Epoch 178/200\n",
      "2/2 [==============================] - 0s 26ms/step - loss: 0.0888 - accuracy: 0.9702 - val_loss: 0.2468 - val_accuracy: 0.9322\n",
      "Epoch 179/200\n",
      "2/2 [==============================] - 0s 25ms/step - loss: 0.1565 - accuracy: 0.9532 - val_loss: 0.2426 - val_accuracy: 0.9322\n",
      "Epoch 180/200\n",
      "2/2 [==============================] - 0s 25ms/step - loss: 0.1042 - accuracy: 0.9617 - val_loss: 0.2396 - val_accuracy: 0.9322\n",
      "Epoch 181/200\n",
      "2/2 [==============================] - 0s 26ms/step - loss: 0.1017 - accuracy: 0.9617 - val_loss: 0.2361 - val_accuracy: 0.9322\n",
      "Epoch 182/200\n",
      "2/2 [==============================] - 0s 26ms/step - loss: 0.0847 - accuracy: 0.9660 - val_loss: 0.2336 - val_accuracy: 0.9322\n",
      "Epoch 183/200\n",
      "2/2 [==============================] - 0s 26ms/step - loss: 0.0961 - accuracy: 0.9745 - val_loss: 0.2357 - val_accuracy: 0.9492\n",
      "Epoch 184/200\n",
      "2/2 [==============================] - 0s 27ms/step - loss: 0.1011 - accuracy: 0.9660 - val_loss: 0.2369 - val_accuracy: 0.9492\n",
      "Epoch 185/200\n",
      "2/2 [==============================] - 0s 27ms/step - loss: 0.1009 - accuracy: 0.9745 - val_loss: 0.2353 - val_accuracy: 0.9492\n",
      "Epoch 186/200\n",
      "2/2 [==============================] - 0s 26ms/step - loss: 0.1455 - accuracy: 0.9447 - val_loss: 0.2325 - val_accuracy: 0.9322\n",
      "Epoch 187/200\n",
      "2/2 [==============================] - 0s 26ms/step - loss: 0.1020 - accuracy: 0.9617 - val_loss: 0.2290 - val_accuracy: 0.9322\n",
      "Epoch 188/200\n",
      "2/2 [==============================] - 0s 26ms/step - loss: 0.0997 - accuracy: 0.9702 - val_loss: 0.2254 - val_accuracy: 0.9322\n",
      "Epoch 189/200\n",
      "2/2 [==============================] - 0s 25ms/step - loss: 0.0975 - accuracy: 0.9660 - val_loss: 0.2224 - val_accuracy: 0.9492\n",
      "Epoch 190/200\n",
      "2/2 [==============================] - 0s 25ms/step - loss: 0.1039 - accuracy: 0.9617 - val_loss: 0.2197 - val_accuracy: 0.9492\n",
      "Epoch 191/200\n",
      "2/2 [==============================] - 0s 26ms/step - loss: 0.0975 - accuracy: 0.9574 - val_loss: 0.2187 - val_accuracy: 0.9492\n",
      "Epoch 192/200\n",
      "2/2 [==============================] - 0s 26ms/step - loss: 0.0908 - accuracy: 0.9787 - val_loss: 0.2202 - val_accuracy: 0.9492\n",
      "Epoch 193/200\n",
      "2/2 [==============================] - 0s 26ms/step - loss: 0.1009 - accuracy: 0.9574 - val_loss: 0.2209 - val_accuracy: 0.9492\n",
      "Epoch 194/200\n",
      "2/2 [==============================] - 0s 26ms/step - loss: 0.1018 - accuracy: 0.9660 - val_loss: 0.2195 - val_accuracy: 0.9492\n",
      "Epoch 195/200\n",
      "2/2 [==============================] - 0s 25ms/step - loss: 0.1068 - accuracy: 0.9660 - val_loss: 0.2144 - val_accuracy: 0.9492\n",
      "Epoch 196/200\n",
      "2/2 [==============================] - 0s 26ms/step - loss: 0.0894 - accuracy: 0.9702 - val_loss: 0.2145 - val_accuracy: 0.9492\n",
      "Epoch 197/200\n",
      "2/2 [==============================] - 0s 27ms/step - loss: 0.0766 - accuracy: 0.9702 - val_loss: 0.2148 - val_accuracy: 0.9492\n",
      "Epoch 198/200\n",
      "2/2 [==============================] - 0s 26ms/step - loss: 0.1401 - accuracy: 0.9489 - val_loss: 0.2103 - val_accuracy: 0.9492\n",
      "Epoch 199/200\n",
      "2/2 [==============================] - 0s 26ms/step - loss: 0.0952 - accuracy: 0.9702 - val_loss: 0.2092 - val_accuracy: 0.9492\n",
      "Epoch 200/200\n",
      "2/2 [==============================] - 0s 26ms/step - loss: 0.1139 - accuracy: 0.9532 - val_loss: 0.2090 - val_accuracy: 0.9492\n"
     ]
    }
   ],
   "source": [
    "gra = model_self.fit(X_train, Y_train, epochs=200,validation_data=(X_val,Y_val), batch_size=128)"
   ]
  },
  {
   "cell_type": "code",
   "execution_count": 27,
   "id": "f657fc26",
   "metadata": {},
   "outputs": [
    {
     "data": {
      "text/plain": [
       "dict_keys(['loss', 'accuracy', 'val_loss', 'val_accuracy'])"
      ]
     },
     "execution_count": 27,
     "metadata": {},
     "output_type": "execute_result"
    }
   ],
   "source": [
    "gra.history.keys()"
   ]
  },
  {
   "cell_type": "code",
   "execution_count": 28,
   "id": "a1f33128",
   "metadata": {},
   "outputs": [
    {
     "data": {
      "text/plain": [
       "<keras.callbacks.History at 0x293fbcb80>"
      ]
     },
     "execution_count": 28,
     "metadata": {},
     "output_type": "execute_result"
    }
   ],
   "source": [
    "gra"
   ]
  },
  {
   "cell_type": "code",
   "execution_count": 32,
   "id": "c2980c6e",
   "metadata": {
    "scrolled": true
   },
   "outputs": [
    {
     "data": {
      "image/png": "[encoded data removed]",
      "text/plain": [
       "<Figure size 640x480 with 1 Axes>"
      ]
     },
     "metadata": {},
     "output_type": "display_data"
    }
   ],
   "source": [
    "plt.plot(gra.history['accuracy'])\n",
    "plt.plot(gra.history['loss'])\n",
    "plt.legend([\"accuracy\",\"loss\"])\n",
    "plt.savefig(\"parkinsons_ann_acc_v1.png\")"
   ]
  },
  {
   "cell_type": "code",
   "execution_count": 33,
   "id": "2897cf65",
   "metadata": {},
   "outputs": [
    {
     "data": {
      "image/png": "[encoded data removed]",
      "text/plain": [
       "<Figure size 640x480 with 1 Axes>"
      ]
     },
     "metadata": {},
     "output_type": "display_data"
    }
   ],
   "source": [
    "plt.plot(gra.history['val_accuracy'])\n",
    "plt.plot(gra.history['val_loss'])\n",
    "plt.legend([\"val_accuracy\",\"val_loss\"])\n",
    "plt.savefig(\"parkinsons_ann_val_v1.png\")"
   ]
  },
  {
   "cell_type": "code",
   "execution_count": 120,
   "id": "2ccdf815",
   "metadata": {},
   "outputs": [
    {
     "name": "stdout",
     "output_type": "stream",
     "text": [
      "2/2 [==============================] - 0s 31ms/step\n"
     ]
    },
    {
     "data": {
      "image/png": "[encoded data removed]",
      "text/plain": [
       "<Figure size 640x480 with 1 Axes>"
      ]
     },
     "metadata": {},
     "output_type": "display_data"
    }
   ],
   "source": [
    "import sklearn.metrics as metrics\n",
    "# calculate the fpr and tpr for all thresholds of the classification\n",
    "probs = model_self.predict(X_val)\n",
    "preds = probs[:,0]\n",
    "fpr, tpr, threshold = metrics.roc_curve(Y_val, preds)\n",
    "roc_auc = metrics.auc(fpr, tpr)\n",
    "\n",
    "# method I: plt\n",
    "import matplotlib.pyplot as plt\n",
    "plt.title(\"Parkinson's ANN AUC\")\n",
    "plt.plot(fpr, tpr, 'b', label = 'AUC = %0.2f' % roc_auc)\n",
    "plt.legend(loc = 'lower right')\n",
    "plt.plot([0, 1], [0, 1],'r--')\n",
    "plt.xlim([0, 1])\n",
    "plt.ylim([0, 1])\n",
    "plt.ylabel('True Positive Rate')\n",
    "plt.xlabel('False Positive Rate')\n",
    "\n",
    "plt.savefig(\"parkinsons_ann_auc.png\")"
   ]
  },
  {
   "cell_type": "code",
   "execution_count": 4,
   "id": "9347b9a2",
   "metadata": {},
   "outputs": [
    {
     "data": {
      "text/plain": [
       "\"from sklearn.metrics import roc_auc_score as ras\\nmodels = [LogisticRegression(), XGBClassifier()]\\n \\nfor i in range(len(models)):\\n    models[i].fit(X_train, Y_train)\\n \\n    print(f'{models[i]} : ')\\n \\n    train_preds = models[i].predict_proba(X_train)[:, 1]\\n    print('Training Accuracy : ', ras(Y_train, train_preds))\\n \\n    val_preds = models[i].predict_proba(X_val)[:, 1]\\n    print('Validation Accuracy : ', ras(Y_val, val_preds))\""
      ]
     },
     "execution_count": 4,
     "metadata": {},
     "output_type": "execute_result"
    }
   ],
   "source": [
    "\"\"\"from sklearn.metrics import roc_auc_score as ras\n",
    "models = [LogisticRegression(), XGBClassifier()]\n",
    " \n",
    "for i in range(len(models)):\n",
    "    models[i].fit(X_train, Y_train)\n",
    " \n",
    "    print(f'{models[i]} : ')\n",
    " \n",
    "    train_preds = models[i].predict_proba(X_train)[:, 1]\n",
    "    print('Training Accuracy : ', ras(Y_train, train_preds))\n",
    " \n",
    "    val_preds = models[i].predict_proba(X_val)[:, 1]\n",
    "    print('Validation Accuracy : ', ras(Y_val, val_preds))\"\"\""
   ]
  },
  {
   "cell_type": "code",
   "execution_count": 43,
   "id": "16070574",
   "metadata": {},
   "outputs": [
    {
     "data": {
      "text/plain": [
       "(59, 1)"
      ]
     },
     "execution_count": 43,
     "metadata": {},
     "output_type": "execute_result"
    }
   ],
   "source": [
    "probs.shape"
   ]
  },
  {
   "cell_type": "code",
   "execution_count": 44,
   "id": "e89b5238",
   "metadata": {},
   "outputs": [
    {
     "data": {
      "text/plain": [
       "array([0.1223343 , 0.993006  , 0.9968336 , 0.99848574, 0.01703342,\n",
       "       0.00263139, 0.235359  , 0.9932114 , 0.00264504, 0.85805225,\n",
       "       0.04930161, 0.9985318 , 0.971024  , 0.00247245, 0.99903786,\n",
       "       0.1223343 , 0.00253805, 0.00270644, 0.99750537, 0.00280383,\n",
       "       0.01683465, 0.55136544, 0.31873104, 0.00299786, 0.10583963,\n",
       "       0.00269988, 0.00420213, 0.99342316, 0.3620708 , 0.00269025,\n",
       "       0.9569967 , 0.00297941, 0.2442953 , 0.99845314, 0.00330719,\n",
       "       0.00565477, 0.00349283, 0.02741104, 0.9930975 , 0.00253805,\n",
       "       0.6182184 , 0.00314545, 0.00565477, 0.00794157, 0.9998275 ,\n",
       "       0.9980843 , 0.00267909, 0.99751663, 0.10583963, 0.12208337,\n",
       "       0.00365318, 0.12208337, 0.98753405, 0.9754092 , 0.9657034 ,\n",
       "       0.00297941, 0.00766463, 0.00794157, 0.99980015], dtype=float32)"
      ]
     },
     "execution_count": 44,
     "metadata": {},
     "output_type": "execute_result"
    }
   ],
   "source": [
    "probs[:,0]"
   ]
  },
  {
   "cell_type": "code",
   "execution_count": 100,
   "id": "1dd56083",
   "metadata": {},
   "outputs": [
    {
     "name": "stdout",
     "output_type": "stream",
     "text": [
      "2/2 [==============================] - 0s 16ms/step\n"
     ]
    },
    {
     "data": {
      "image/png": "[encoded data removed]",
      "text/plain": [
       "<Figure size 750x750 with 1 Axes>"
      ]
     },
     "metadata": {},
     "output_type": "display_data"
    }
   ],
   "source": [
    "y_pred = model_self.predict(X_val)\n",
    "for i in range(len(y_pred)):\n",
    "    if y_pred[i,0] > 0.5:\n",
    "        y_pred[i,0]=1\n",
    "    else:\n",
    "        y_pred[i,0]=0\n",
    "\n",
    "from sklearn.metrics import confusion_matrix, ConfusionMatrixDisplay\n",
    "cm = confusion_matrix(Y_val, y_pred)\n",
    "fig, ax = plt.subplots(figsize=(7.5, 7.5))\n",
    "ax.matshow(cm, cmap=plt.cm.Blues, alpha=0.3)\n",
    "for i in range(cm.shape[0]):\n",
    "    for j in range(cm.shape[1]):\n",
    "        ax.text(x=j, y=i,s=cm[i, j], va='center', ha='center', size='xx-large')\n",
    " \n",
    "plt.xlabel('Predictions', fontsize=18)\n",
    "plt.ylabel('Actuals', fontsize=18)\n",
    "plt.title('Confusion Matrix of ANN', fontsize=18)\n",
    "plt.savefig('confusion_ann_parkinsons.png')\n",
    "plt.show()"
   ]
  },
  {
   "cell_type": "code",
   "execution_count": 60,
   "id": "6a831dd1",
   "metadata": {},
   "outputs": [
    {
     "name": "stdout",
     "output_type": "stream",
     "text": [
      "2/2 [==============================] - 0s 4ms/step\n"
     ]
    }
   ],
   "source": [
    "output = model_self.predict(X_val)\n",
    "for i in range(len(output)):\n",
    "    if output[i,0] > 0.5:\n",
    "        output[i,0]=1\n",
    "    else:\n",
    "        output[i,0]=0"
   ]
  },
  {
   "cell_type": "code",
   "execution_count": null,
   "id": "00dd4e6f",
   "metadata": {},
   "outputs": [],
   "source": []
  },
  {
   "cell_type": "code",
   "execution_count": 64,
   "id": "077359f8",
   "metadata": {
    "scrolled": true
   },
   "outputs": [],
   "source": [
    "from sklearn.naive_bayes import GaussianNB\n",
    "from sklearn.ensemble import AdaBoostClassifier\n",
    "from sklearn.ensemble import RandomForestClassifier"
   ]
  },
  {
   "cell_type": "code",
   "execution_count": 111,
   "id": "f38cc46c",
   "metadata": {
    "scrolled": true
   },
   "outputs": [],
   "source": [
    "clf1 = LogisticRegression(penalty='l2',C=1)\n",
    "clf2 = GaussianNB()\n",
    "clf3 = RandomForestClassifier(criterion='entropy', n_estimators=10)\n",
    "clf4 = AdaBoostClassifier(n_estimators=600,learning_rate=0.001, random_state=1)"
   ]
  },
  {
   "cell_type": "code",
   "execution_count": 112,
   "id": "bf1b9f23",
   "metadata": {},
   "outputs": [],
   "source": [
    "models = [clf1,clf2,clf3,clf4]\n",
    "accuracy ={}\n",
    "for i in models:\n",
    "    \n",
    "    i.fit(X_train, Y_train)\n",
    "    accuracy[i] = i.score(X_val,Y_val)"
   ]
  },
  {
   "cell_type": "code",
   "execution_count": 113,
   "id": "a51d1c31",
   "metadata": {},
   "outputs": [
    {
     "data": {
      "text/plain": [
       "{LogisticRegression(C=1): 0.7288135593220338,\n",
       " GaussianNB(): 0.7457627118644068,\n",
       " RandomForestClassifier(criterion='entropy', n_estimators=10): 0.9152542372881356,\n",
       " AdaBoostClassifier(learning_rate=0.001, n_estimators=600, random_state=1): 0.7457627118644068}"
      ]
     },
     "execution_count": 113,
     "metadata": {},
     "output_type": "execute_result"
    }
   ],
   "source": [
    "accuracy"
   ]
  },
  {
   "cell_type": "code",
   "execution_count": 115,
   "id": "36ca21ba",
   "metadata": {},
   "outputs": [],
   "source": [
    "y_pred_lr=clf1.predict(X_val)\n",
    "y_pred_gassNB=clf2.predict(X_val)\n",
    "y_pred_rf=clf3.predict(X_val)\n",
    "y_pred_adaboost=clf4.predict(X_val)"
   ]
  },
  {
   "cell_type": "code",
   "execution_count": 101,
   "id": "20176a42",
   "metadata": {},
   "outputs": [
    {
     "data": {
      "image/png": "[encoded data removed]",
      "text/plain": [
       "<Figure size 750x750 with 1 Axes>"
      ]
     },
     "metadata": {},
     "output_type": "display_data"
    }
   ],
   "source": [
    "from sklearn.metrics import confusion_matrix, ConfusionMatrixDisplay\n",
    "cm = confusion_matrix(Y_val, y_pred_lr)\n",
    "fig, ax = plt.subplots(figsize=(7.5, 7.5))\n",
    "ax.matshow(cm, cmap=plt.cm.Blues, alpha=0.3)\n",
    "for i in range(cm.shape[0]):\n",
    "    for j in range(cm.shape[1]):\n",
    "        ax.text(x=j, y=i,s=cm[i, j], va='center', ha='center', size='xx-large')\n",
    " \n",
    "plt.xlabel('Predictions', fontsize=18)\n",
    "plt.ylabel('Actuals', fontsize=18)\n",
    "plt.title('Confusion Matrix of Logistic Regression', fontsize=18)\n",
    "plt.savefig('cm_lr.png')\n",
    "plt.show()"
   ]
  },
  {
   "cell_type": "code",
   "execution_count": 102,
   "id": "da7aa115",
   "metadata": {},
   "outputs": [
    {
     "data": {
      "image/png": "[encoded data removed]",
      "text/plain": [
       "<Figure size 750x750 with 1 Axes>"
      ]
     },
     "metadata": {},
     "output_type": "display_data"
    }
   ],
   "source": [
    "from sklearn.metrics import confusion_matrix, ConfusionMatrixDisplay\n",
    "cm = confusion_matrix(Y_val, y_pred_gassNB)\n",
    "fig, ax = plt.subplots(figsize=(7.5, 7.5))\n",
    "ax.matshow(cm, cmap=plt.cm.Blues, alpha=0.3)\n",
    "for i in range(cm.shape[0]):\n",
    "    for j in range(cm.shape[1]):\n",
    "        ax.text(x=j, y=i,s=cm[i, j], va='center', ha='center', size='xx-large')\n",
    " \n",
    "plt.xlabel('Predictions', fontsize=18)\n",
    "plt.ylabel('Actuals', fontsize=18)\n",
    "plt.title('Confusion Matrix of GaussianNB', fontsize=18)\n",
    "plt.savefig('cm_gassNB.png')\n",
    "plt.show()"
   ]
  },
  {
   "cell_type": "code",
   "execution_count": 116,
   "id": "ffec26b9",
   "metadata": {},
   "outputs": [
    {
     "data": {
      "image/png": "[encoded data removed]",
      "text/plain": [
       "<Figure size 750x750 with 1 Axes>"
      ]
     },
     "metadata": {},
     "output_type": "display_data"
    }
   ],
   "source": [
    "from sklearn.metrics import confusion_matrix, ConfusionMatrixDisplay\n",
    "cm = confusion_matrix(Y_val, y_pred_rf)\n",
    "fig, ax = plt.subplots(figsize=(7.5, 7.5))\n",
    "ax.matshow(cm, cmap=plt.cm.Blues, alpha=0.3)\n",
    "for i in range(cm.shape[0]):\n",
    "    for j in range(cm.shape[1]):\n",
    "        ax.text(x=j, y=i,s=cm[i, j], va='center', ha='center', size='xx-large')\n",
    " \n",
    "plt.xlabel('Predictions', fontsize=18)\n",
    "plt.ylabel('Actuals', fontsize=18)\n",
    "plt.title('Confusion Matrix of Ransom Forest', fontsize=18)\n",
    "plt.savefig('cm_rf.png')\n",
    "plt.show()"
   ]
  },
  {
   "cell_type": "code",
   "execution_count": 104,
   "id": "a66cb7ed",
   "metadata": {},
   "outputs": [
    {
     "data": {
      "image/png": "[encoded data removed]",
      "text/plain": [
       "<Figure size 750x750 with 1 Axes>"
      ]
     },
     "metadata": {},
     "output_type": "display_data"
    }
   ],
   "source": [
    "from sklearn.metrics import confusion_matrix, ConfusionMatrixDisplay\n",
    "cm = confusion_matrix(Y_val, y_pred_adaboost)\n",
    "fig, ax = plt.subplots(figsize=(7.5, 7.5))\n",
    "ax.matshow(cm, cmap=plt.cm.Blues, alpha=0.3)\n",
    "for i in range(cm.shape[0]):\n",
    "    for j in range(cm.shape[1]):\n",
    "        ax.text(x=j, y=i,s=cm[i, j], va='center', ha='center', size='xx-large')\n",
    " \n",
    "plt.xlabel('Predictions', fontsize=18)\n",
    "plt.ylabel('Actuals', fontsize=18)\n",
    "plt.title('Confusion Matrix of AdaBoostClassifier', fontsize=18)\n",
    "plt.savefig('cm_adaboost.png')\n",
    "plt.show()"
   ]
  },
  {
   "cell_type": "code",
   "execution_count": null,
   "id": "26fd850e",
   "metadata": {},
   "outputs": [],
   "source": []
  }
 ],
 "metadata": {
  "kernelspec": {
   "display_name": "Python 3.10 (tensorflow)",
   "language": "python",
   "name": "tensorflow"
  },
  "language_info": {
   "codemirror_mode": {
    "name": "ipython",
    "version": 3
   },
   "file_extension": ".py",
   "mimetype": "text/x-python",
   "name": "python",
   "nbconvert_exporter": "python",
   "pygments_lexer": "ipython3",
   "version": "3.10.10"
  }
 },
 "nbformat": 4,
 "nbformat_minor": 5
}
